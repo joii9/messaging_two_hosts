{
 "cells": [
  {
   "cell_type": "markdown",
   "id": "5ead719c-b3a9-479f-a5e3-50a5f44071a2",
   "metadata": {},
   "source": [
    "# Messages between hosts in a LAN"
   ]
  },
  {
   "cell_type": "markdown",
   "id": "fb138879-92dd-4528-8d0b-623578e86c5c",
   "metadata": {},
   "source": [
    "## Showing a prompt through command line"
   ]
  },
  {
   "cell_type": "code",
   "execution_count": 1,
   "id": "affd4fca-527d-4d3e-bb40-84c9eb8abeb2",
   "metadata": {},
   "outputs": [
    {
     "data": {
      "text/plain": [
       "''"
      ]
     },
     "execution_count": 1,
     "metadata": {},
     "output_type": "execute_result"
    }
   ],
   "source": [
    "import subprocess\n",
    "\n",
    "subprocess.getoutput(\"msg joel hola\")\n"
   ]
  },
  {
   "cell_type": "markdown",
   "id": "a3551256-78f3-4698-8194-f253ccbd84ab",
   "metadata": {},
   "source": [
    "## Appending a text in a txt file"
   ]
  },
  {
   "cell_type": "markdown",
   "id": "17844b5c-4f0f-4361-8e67-b1ec610b9243",
   "metadata": {},
   "source": [
    "The idea here is appending the text to a txt file to later import that txt file and show it in a window"
   ]
  },
  {
   "cell_type": "code",
   "execution_count": 2,
   "id": "aae8efa2-5492-46f8-bc6a-645ee32a6064",
   "metadata": {},
   "outputs": [
    {
     "data": {
      "text/plain": [
       "''"
      ]
     },
     "execution_count": 2,
     "metadata": {},
     "output_type": "execute_result"
    }
   ],
   "source": [
    "import subprocess\n",
    "\n",
    "subprocess.getoutput(\"echo test > messages.txt\")"
   ]
  },
  {
   "cell_type": "markdown",
   "id": "fb6c1402-b05d-4a35-a517-79840766a11c",
   "metadata": {},
   "source": [
    "## Building the window to show the data in of a txt file"
   ]
  },
  {
   "cell_type": "code",
   "execution_count": 8,
   "id": "446dccc8-ea0a-48b0-86e9-1393ef0d675e",
   "metadata": {},
   "outputs": [],
   "source": [
    "import tkinter as tk\n",
    "\n",
    "class MainWindow():\n",
    "\n",
    "    def __init__(self):\n",
    "\n",
    "        self.win= tkinter.Tk()\n",
    "        self.win.title(\"Telegram by Joel\")\n",
    "        self.win.configure() #bg=\"#D49FFF\"\n",
    "        self.win.geometry(\"500x400\")\n",
    "\n",
    "    def create_title(self, title):\n",
    "        label= tk.Label(self.win, text=title) #font=(\"Helvetica\", 15), fg=\"#4D4D4D\"\n",
    "        label.configure() #bg=\"#D49FFF\"\n",
    "        label.pack()\n",
    "    \n",
    "    def show(self):\n",
    "        self.win.mainloop()\n",
    "\n",
    "main_window = MainWindow()\n",
    "main_window.create_title(\"Iniciaste un chat con ... por favor saluda\")\n",
    "main_window.show()"
   ]
  },
  {
   "cell_type": "markdown",
   "id": "31d05cee-6bae-4ab4-b80a-9b5fa9d8d067",
   "metadata": {},
   "source": [
    "## Another way to append txt in a file\n",
    "\n",
    "I think this way is better to get the text written by a user and appending to a txt file to later show it in a window"
   ]
  },
  {
   "cell_type": "code",
   "execution_count": 9,
   "id": "168f334d-cfd8-40db-8546-416a5a42339d",
   "metadata": {},
   "outputs": [
    {
     "name": "stdout",
     "output_type": "stream",
     "text": [
      "como estas?\n"
     ]
    }
   ],
   "source": [
    "message= \"como estas?\"\n",
    "message_sent= message+\"\\n\"\n",
    "textfile= open(\"C:\\\\Users\\\\Joel\\\\Documents\\\\Python\\\\messaging_hosts\\\\logs_messages.txt\", \"a\") \n",
    "textfile.write(message_sent)\n",
    "textfile.close()\n",
    "\n",
    "print(message)"
   ]
  },
  {
   "cell_type": "markdown",
   "id": "dce83f86-2d60-4d2c-aba9-de3bde4324cb",
   "metadata": {},
   "source": [
    "## Building a window to get the text written in there"
   ]
  },
  {
   "cell_type": "code",
   "execution_count": 12,
   "id": "ce088206-1dcb-4e97-89d3-54c7f0082f7b",
   "metadata": {},
   "outputs": [],
   "source": [
    "import tkinter"
   ]
  },
  {
   "cell_type": "code",
   "execution_count": null,
   "id": "5a314aa9-f772-477f-8035-23de9028cc86",
   "metadata": {},
   "outputs": [
    {
     "name": "stdout",
     "output_type": "stream",
     "text": [
      "mensaje\n"
     ]
    }
   ],
   "source": [
    "import tkinter as tk\n",
    "from tkinter import *\n",
    "\n",
    "class MainWindow():\n",
    "\n",
    "    def __init__(self):\n",
    "\n",
    "        self.win= tkinter.Tk()\n",
    "        self.win.title(\"Telegram by Joel\")\n",
    "        self.win.configure() #bg=\"#D49FFF\"\n",
    "        self.win.geometry(\"500x400\")\n",
    "\n",
    "    def create_greeting(self, greeting):\n",
    "\n",
    "        label= tk.Label(self.win, text=greeting) #font=(\"Helvetica\", 15), fg=\"#4D4D4D\"\n",
    "        label.configure() #bg=\"#D49FFF\"\n",
    "        label.pack()\n",
    "\n",
    "    def create_viewer_text(self):\n",
    "\n",
    "        self.viewer_text = tk.Text(self.win, wrap=\"word\", width=60, height=18)\n",
    "        file_path= \"C:\\\\Users\\\\Joel\\\\Documents\\\\Python\\\\messaging_hosts\\\\logs_messages.txt\"\n",
    "        content = open(file_path, 'r')\n",
    "        self.viewer_text.insert(tk.END, content.read())\n",
    "        self.viewer_text.pack()\n",
    "        \n",
    "\n",
    "    def create_inbox_message(self):\n",
    "        \n",
    "        frame=LabelFrame(self.win, text=\"Tu mensaje va aquí\")\n",
    "        frame.config()#bg = \"#D49FFF\"\n",
    "        frame.pack(side=\"bottom\",anchor=S, fill=\"both\") #expand=True, padx=10, pady=10\n",
    "        self.message = Entry(frame) #Invocamos la función entry_box dentro de la funcion busqueda, en el frame. Tener cuidado con el nombre de las variables de los frames, ya que en los argumentos del frame lo colocara en frame correspondiente\n",
    "        self.message.config(width=70) #state='readonly', width=30\n",
    "        self.message.grid(padx = 5)\n",
    "        send_button= Button(frame, text= \"Enviar\", command=self.getting_text_inbox_message) \n",
    "        send_button.grid(row= 0, column= 3, padx = 5, pady = 10)\n",
    "        \n",
    "\n",
    "    \n",
    "    def getting_text_inbox_message(self):\n",
    "        \n",
    "        message=self.message.get()\n",
    "        print(message)\n",
    "        message_sent= message+\"\\n\"\n",
    "        textfile= open(\"C:\\\\Users\\\\Joel\\\\Documents\\\\Python\\\\messaging_hosts\\\\logs_messages.txt\", \"a\") \n",
    "        textfile.write(message_sent)\n",
    "        textfile.close()\n",
    "        self.message.delete(0, END)\n",
    "        self.viewer_text.destroy()\n",
    "        main_window.create_viewer_text()\n",
    "        \n",
    "        \n",
    "    \n",
    "    def show(self):\n",
    "        self.win.mainloop()\n",
    "\n",
    "main_window = MainWindow()\n",
    "main_window.create_greeting(\"Iniciaste un chat con ... por favor saluda\")\n",
    "main_window.create_inbox_message()\n",
    "main_window.create_viewer_text()\n",
    "main_window.show()"
   ]
  },
  {
   "cell_type": "code",
   "execution_count": null,
   "id": "35113cb1-7dff-447c-bf1a-9600dbb9dc37",
   "metadata": {},
   "outputs": [],
   "source": []
  },
  {
   "cell_type": "code",
   "execution_count": 48,
   "id": "cb6a5205-3ca6-4bbf-90c6-f5efbd38e758",
   "metadata": {},
   "outputs": [
    {
     "name": "stdout",
     "output_type": "stream",
     "text": [
      "32521352\n"
     ]
    }
   ],
   "source": [
    "import tkinter as tk\n",
    "from tkinter import *\n",
    "\n",
    "class MainWindow():\n",
    "\n",
    "    def __init__(self):\n",
    "\n",
    "        self.win= tkinter.Tk()\n",
    "        self.win.title(\"Telegram by Joel\")\n",
    "        self.win.configure() #bg=\"#D49FFF\"\n",
    "        self.win.geometry(\"500x400\")\n",
    "        self.file_path= \"C:\\\\Users\\\\Joel\\\\Documents\\\\Python\\\\messaging_hosts\\\\logs_messages.txt\"\n",
    "\n",
    "    def consulta(self):\n",
    "        self.content = open(self.file_path, 'r')\n",
    "        \n",
    "    def create_greeting(self, greeting):\n",
    "\n",
    "        label= tk.Label(self.win, text=greeting) #font=(\"Helvetica\", 15), fg=\"#4D4D4D\"\n",
    "        label.configure() #bg=\"#D49FFF\"\n",
    "        label.pack()\n",
    "\n",
    "    def create_viewer_text(self):\n",
    "\n",
    "        self.viewer_text = tk.Text(self.win, wrap=\"word\", width=60, height=18)\n",
    "        self.consulta()\n",
    "        self.viewer_text.insert(tk.END, self.content.read())\n",
    "        self.viewer_text.pack()\n",
    "        \n",
    "\n",
    "    def create_inbox_message(self):\n",
    "        \n",
    "        frame=LabelFrame(self.win, text=\"Tu mensaje va aquí\")\n",
    "        frame.config()#bg = \"#D49FFF\"\n",
    "        frame.pack(side=\"bottom\",anchor=S, fill=\"both\") #expand=True, padx=10, pady=10\n",
    "        self.message = Entry(frame) #Invocamos la función entry_box dentro de la funcion busqueda, en el frame. Tener cuidado con el nombre de las variables de los frames, ya que en los argumentos del frame lo colocara en frame correspondiente\n",
    "        self.message.config(width=70) #state='readonly', width=30\n",
    "        self.message.grid(padx = 5)\n",
    "        send_button= Button(frame, text= \"Enviar\", command=self.getting_text_inbox_message) \n",
    "        send_button.grid(row= 0, column= 3, padx = 5, pady = 10)\n",
    "        \n",
    "\n",
    "    \n",
    "    def getting_text_inbox_message(self):\n",
    "        \n",
    "        message=self.message.get()\n",
    "        print(message)\n",
    "        message_sent= message+\"\\n\"\n",
    "        textfile= open(\"C:\\\\Users\\\\Joel\\\\Documents\\\\Python\\\\messaging_hosts\\\\logs_messages.txt\", \"a\") \n",
    "        textfile.write(message_sent)\n",
    "        textfile.close()\n",
    "        self.message.delete(0, END)\n",
    "        self.viewer_text.delete(\"1.0\", END)\n",
    "        self.consulta()\n",
    "        self.viewer_text.insert(tk.END, self.content.read())\n",
    "        self.viewer_text.pack()\n",
    "        \n",
    "        \n",
    "    \n",
    "    def show(self):\n",
    "        self.win.mainloop()\n",
    "\n",
    "main_window = MainWindow()\n",
    "main_window.create_greeting(\"Iniciaste un chat con ... por favor saluda\")\n",
    "main_window.create_inbox_message()\n",
    "main_window.create_viewer_text()\n",
    "main_window.show()"
   ]
  },
  {
   "cell_type": "markdown",
   "id": "403dcd25-678b-4ee0-acd9-28dfb8ea421e",
   "metadata": {},
   "source": [
    "## How to view info of a file in a window"
   ]
  },
  {
   "cell_type": "code",
   "execution_count": 10,
   "id": "598d6a5b-e76e-4c11-a3a9-ff853b7b6fcb",
   "metadata": {},
   "outputs": [],
   "source": [
    "import tkinter as tk\n",
    "from tkinter import filedialog\n",
    "\n",
    "def open_file():\n",
    "    file_path = filedialog.askopenfilename(\n",
    "        title=\"Select a Text File\", filetypes=[(\"Text_files\", \"logs_messages.txt\")])\n",
    "    if file_path:\n",
    "        with open(file_path, 'r') as file:\n",
    "            content = file.read()\n",
    "            text_widget.delete(1.0, tk.END)  # Clear previous content\n",
    "            text_widget.insert(tk.END, content)\n",
    "\n",
    "\n",
    "# Create the main window\n",
    "root = tk.Tk()\n",
    "root.title(\"Text File Reader\")\n",
    "\n",
    "# Create a Text widget to display the content\n",
    "text_widget = tk.Text(root, wrap=\"word\", width=40, height=10)\n",
    "text_widget.pack(pady=10)\n",
    "\n",
    "# Create a button to open the file\n",
    "open_button = tk.Button(root, text=\"Open File\", command=open_file)\n",
    "open_button.pack(pady=10)\n",
    "\n",
    "# Run the Tkinter event loop\n",
    "root.mainloop()"
   ]
  },
  {
   "cell_type": "code",
   "execution_count": 22,
   "id": "921c20d4-49fe-48de-a424-02d36c32482d",
   "metadata": {},
   "outputs": [
    {
     "data": {
      "text/plain": [
       "0"
      ]
     },
     "execution_count": 22,
     "metadata": {},
     "output_type": "execute_result"
    }
   ],
   "source": [
    "import os\n",
    "os.system(\"notepad.exe logs_messages.txt\")"
   ]
  },
  {
   "cell_type": "code",
   "execution_count": 5,
   "id": "3fbe32ba-b197-4f5e-bb34-5e9be9aaab0a",
   "metadata": {
    "scrolled": true
   },
   "outputs": [
    {
     "name": "stdout",
     "output_type": "stream",
     "text": [
      "hola\n",
      "como estas?\n",
      "como estas?\n",
      "test de getting and append text\n",
      "webos\n",
      "test of erase\n",
      "mi mensaje\n",
      "\n"
     ]
    }
   ],
   "source": [
    "file_path= \"C:\\\\Users\\\\Joel\\\\Documents\\\\Python\\\\messaging_hosts\\\\logs_messages.txt\"\n",
    "\n",
    "content = open(file_path, 'r')\n",
    "#print(dir(content))\n",
    "print(content.read())"
   ]
  }
 ],
 "metadata": {
  "kernelspec": {
   "display_name": "Python 3 (ipykernel)",
   "language": "python",
   "name": "python3"
  },
  "language_info": {
   "codemirror_mode": {
    "name": "ipython",
    "version": 3
   },
   "file_extension": ".py",
   "mimetype": "text/x-python",
   "name": "python",
   "nbconvert_exporter": "python",
   "pygments_lexer": "ipython3",
   "version": "3.12.7"
  }
 },
 "nbformat": 4,
 "nbformat_minor": 5
}
