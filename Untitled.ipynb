{
 "cells": [
  {
   "cell_type": "markdown",
   "id": "5ead719c-b3a9-479f-a5e3-50a5f44071a2",
   "metadata": {},
   "source": [
    "# Messages between hosts in a LAN"
   ]
  },
  {
   "cell_type": "markdown",
   "id": "fb138879-92dd-4528-8d0b-623578e86c5c",
   "metadata": {},
   "source": [
    "## Showing a prompt through command line"
   ]
  },
  {
   "cell_type": "code",
   "execution_count": null,
   "id": "affd4fca-527d-4d3e-bb40-84c9eb8abeb2",
   "metadata": {},
   "outputs": [],
   "source": [
    "import subprocess\n",
    "\n",
    "subprocess.getoutput(\"msg joel hola\")\n"
   ]
  },
  {
   "cell_type": "markdown",
   "id": "a3551256-78f3-4698-8194-f253ccbd84ab",
   "metadata": {},
   "source": [
    "## Appending a text in a txt file"
   ]
  },
  {
   "cell_type": "markdown",
   "id": "17844b5c-4f0f-4361-8e67-b1ec610b9243",
   "metadata": {},
   "source": [
    "The idea here is appending the text to a txt file to later import that txt file and show it in a window"
   ]
  },
  {
   "cell_type": "code",
   "execution_count": null,
   "id": "aae8efa2-5492-46f8-bc6a-645ee32a6064",
   "metadata": {},
   "outputs": [],
   "source": [
    "import subprocess\n",
    "\n",
    "subprocess.getoutput(\"echo test > messages.txt\")"
   ]
  },
  {
   "cell_type": "markdown",
   "id": "fb6c1402-b05d-4a35-a517-79840766a11c",
   "metadata": {},
   "source": [
    "## Building the window to show the data in of a txt file"
   ]
  },
  {
   "cell_type": "code",
   "execution_count": null,
   "id": "446dccc8-ea0a-48b0-86e9-1393ef0d675e",
   "metadata": {},
   "outputs": [],
   "source": [
    "import tkinter as tk\n",
    "\n",
    "class MainWindow():\n",
    "\n",
    "    def __init__(self):\n",
    "\n",
    "        self.win= tkinter.Tk()\n",
    "        self.win.title(\"Telegram by Joel\")\n",
    "        self.win.configure() #bg=\"#D49FFF\"\n",
    "        self.win.geometry(\"500x400\")\n",
    "\n",
    "    def create_title(self, title):\n",
    "        label= tk.Label(self.win, text=title) #font=(\"Helvetica\", 15), fg=\"#4D4D4D\"\n",
    "        label.configure() #bg=\"#D49FFF\"\n",
    "        label.pack()\n",
    "    \n",
    "    def show(self):\n",
    "        self.win.mainloop()\n",
    "\n",
    "main_window = MainWindow()\n",
    "main_window.create_title(\"Iniciaste un chat con ... por favor saluda\")\n",
    "main_window.show()"
   ]
  },
  {
   "cell_type": "markdown",
   "id": "31d05cee-6bae-4ab4-b80a-9b5fa9d8d067",
   "metadata": {},
   "source": [
    "## Another way to append txt in a file\n",
    "\n",
    "I think this way is better to get the text written by a user and appending to a txt file to later show it in a window"
   ]
  },
  {
   "cell_type": "code",
   "execution_count": null,
   "id": "168f334d-cfd8-40db-8546-416a5a42339d",
   "metadata": {},
   "outputs": [],
   "source": [
    "message= \"como estas?\"\n",
    "message_sent= message+\"\\n\"\n",
    "textfile= open(\"C:\\\\Users\\\\Joel\\\\Documents\\\\Python\\\\messaging_hosts\\\\logs_messages.txt\", \"a\") \n",
    "textfile.write(message_sent)\n",
    "textfile.close()\n",
    "\n",
    "print(message)"
   ]
  },
  {
   "cell_type": "markdown",
   "id": "dce83f86-2d60-4d2c-aba9-de3bde4324cb",
   "metadata": {},
   "source": [
    "## Building a window to get the text written in there"
   ]
  },
  {
   "cell_type": "code",
   "execution_count": null,
   "id": "ce088206-1dcb-4e97-89d3-54c7f0082f7b",
   "metadata": {},
   "outputs": [],
   "source": [
    "import tkinter"
   ]
  },
  {
   "cell_type": "code",
   "execution_count": null,
   "id": "5a314aa9-f772-477f-8035-23de9028cc86",
   "metadata": {},
   "outputs": [],
   "source": [
    "import tkinter as tk\n",
    "from tkinter import *\n",
    "\n",
    "class MainWindow():\n",
    "\n",
    "    def __init__(self):\n",
    "\n",
    "        self.win= tkinter.Tk()\n",
    "        self.win.title(\"Telegram by Joel\")\n",
    "        self.win.configure() #bg=\"#D49FFF\"\n",
    "        self.win.geometry(\"500x400\")\n",
    "\n",
    "    def create_greeting(self, greeting):\n",
    "\n",
    "        label= tk.Label(self.win, text=greeting) #font=(\"Helvetica\", 15), fg=\"#4D4D4D\"\n",
    "        label.configure() #bg=\"#D49FFF\"\n",
    "        label.pack()\n",
    "\n",
    "    def create_viewer_text(self):\n",
    "\n",
    "        self.viewer_text = tk.Text(self.win, wrap=\"word\", width=60, height=18)\n",
    "        file_path= \"C:\\\\Users\\\\Joel\\\\Documents\\\\Python\\\\messaging_hosts\\\\logs_messages.txt\"\n",
    "        content = open(file_path, 'r')\n",
    "        self.viewer_text.insert(tk.END, content.read())\n",
    "        self.viewer_text.pack()\n",
    "        \n",
    "\n",
    "    def create_inbox_message(self):\n",
    "        \n",
    "        frame=LabelFrame(self.win, text=\"Tu mensaje va aquí\")\n",
    "        frame.config()#bg = \"#D49FFF\"\n",
    "        frame.pack(side=\"bottom\",anchor=S, fill=\"both\") #expand=True, padx=10, pady=10\n",
    "        self.message = Entry(frame) #Invocamos la función entry_box dentro de la funcion busqueda, en el frame. Tener cuidado con el nombre de las variables de los frames, ya que en los argumentos del frame lo colocara en frame correspondiente\n",
    "        self.message.config(width=70) #state='readonly', width=30\n",
    "        self.message.grid(padx = 5)\n",
    "        send_button= Button(frame, text= \"Enviar\", command=self.getting_text_inbox_message) \n",
    "        send_button.grid(row= 0, column= 3, padx = 5, pady = 10)\n",
    "        \n",
    "\n",
    "    \n",
    "    def getting_text_inbox_message(self):\n",
    "        \n",
    "        message=self.message.get()\n",
    "        print(message)\n",
    "        message_sent= message+\"\\n\"\n",
    "        textfile= open(\"C:\\\\Users\\\\Joel\\\\Documents\\\\Python\\\\messaging_hosts\\\\logs_messages.txt\", \"a\") \n",
    "        textfile.write(message_sent)\n",
    "        textfile.close()\n",
    "        self.message.delete(0, END)\n",
    "        self.viewer_text.destroy()\n",
    "        main_window.create_viewer_text()\n",
    "        \n",
    "        \n",
    "    \n",
    "    def show(self):\n",
    "        self.win.mainloop()\n",
    "\n",
    "main_window = MainWindow()\n",
    "main_window.create_greeting(\"Iniciaste un chat con ... por favor saluda\")\n",
    "main_window.create_inbox_message()\n",
    "main_window.create_viewer_text()\n",
    "main_window.show()"
   ]
  },
  {
   "cell_type": "code",
   "execution_count": null,
   "id": "35113cb1-7dff-447c-bf1a-9600dbb9dc37",
   "metadata": {},
   "outputs": [],
   "source": []
  },
  {
   "cell_type": "code",
   "execution_count": null,
   "id": "cb6a5205-3ca6-4bbf-90c6-f5efbd38e758",
   "metadata": {},
   "outputs": [],
   "source": [
    "import tkinter as tk\n",
    "from tkinter import *\n",
    "\n",
    "class MainWindow():\n",
    "\n",
    "    def __init__(self):\n",
    "\n",
    "        self.win= tkinter.Tk()\n",
    "        self.win.title(\"Telegram by Joel\")\n",
    "        self.win.configure() #bg=\"#D49FFF\"\n",
    "        self.win.geometry(\"500x400\")\n",
    "        self.file_path= \"C:\\\\Users\\\\Joel\\\\Documents\\\\Python\\\\messaging_hosts\\\\logs_messages.txt\"\n",
    "\n",
    "    def consulta(self):\n",
    "        self.content = open(self.file_path, 'r')\n",
    "        \n",
    "    def create_greeting(self, greeting):\n",
    "\n",
    "        label= tk.Label(self.win, text=greeting) #font=(\"Helvetica\", 15), fg=\"#4D4D4D\"\n",
    "        label.configure() #bg=\"#D49FFF\"\n",
    "        label.pack()\n",
    "\n",
    "    def create_viewer_text(self):\n",
    "\n",
    "        self.viewer_text = tk.Text(self.win, wrap=\"word\", width=60, height=18)\n",
    "        self.consulta()\n",
    "        self.viewer_text.insert(tk.END, self.content.read())\n",
    "        self.viewer_text.pack()\n",
    "        \n",
    "\n",
    "    def create_inbox_message(self):\n",
    "        \n",
    "        frame=LabelFrame(self.win, text=\"Tu mensaje va aquí\")\n",
    "        frame.config()#bg = \"#D49FFF\"\n",
    "        frame.pack(side=\"bottom\",anchor=S, fill=\"both\") #expand=True, padx=10, pady=10\n",
    "        self.message = Entry(frame) #Invocamos la función entry_box dentro de la funcion busqueda, en el frame. Tener cuidado con el nombre de las variables de los frames, ya que en los argumentos del frame lo colocara en frame correspondiente\n",
    "        self.message.config(width=70) #state='readonly', width=30\n",
    "        self.message.grid(padx = 5)\n",
    "        send_button= Button(frame, text= \"Enviar\", command=self.getting_text_inbox_message) \n",
    "        send_button.grid(row= 0, column= 3, padx = 5, pady = 10)\n",
    "        \n",
    "\n",
    "    \n",
    "    def getting_text_inbox_message(self):\n",
    "        \n",
    "        message=self.message.get()\n",
    "        print(message)\n",
    "        message_sent= message+\"\\n\"\n",
    "        textfile= open(\"C:\\\\Users\\\\Joel\\\\Documents\\\\Python\\\\messaging_hosts\\\\logs_messages.txt\", \"a\") \n",
    "        textfile.write(message_sent)\n",
    "        textfile.close()\n",
    "        self.message.delete(0, END)\n",
    "        self.viewer_text.delete(\"1.0\", END)\n",
    "        self.consulta()\n",
    "        self.viewer_text.insert(tk.END, self.content.read())\n",
    "        self.viewer_text.pack()\n",
    "        \n",
    "        \n",
    "    \n",
    "    def show(self):\n",
    "        self.win.mainloop()\n",
    "\n",
    "main_window = MainWindow()\n",
    "main_window.create_greeting(\"Iniciaste un chat con ... por favor saluda\")\n",
    "main_window.create_inbox_message()\n",
    "main_window.create_viewer_text()\n",
    "main_window.show()"
   ]
  },
  {
   "cell_type": "markdown",
   "id": "403dcd25-678b-4ee0-acd9-28dfb8ea421e",
   "metadata": {},
   "source": [
    "## How to view info of a file in a window"
   ]
  },
  {
   "cell_type": "code",
   "execution_count": null,
   "id": "598d6a5b-e76e-4c11-a3a9-ff853b7b6fcb",
   "metadata": {},
   "outputs": [],
   "source": [
    "import tkinter as tk\n",
    "from tkinter import filedialog\n",
    "\n",
    "def open_file():\n",
    "    file_path = filedialog.askopenfilename(\n",
    "        title=\"Select a Text File\", filetypes=[(\"Text_files\", \"logs_messages.txt\")])\n",
    "    if file_path:\n",
    "        with open(file_path, 'r') as file:\n",
    "            content = file.read()\n",
    "            text_widget.delete(1.0, tk.END)  # Clear previous content\n",
    "            text_widget.insert(tk.END, content)\n",
    "\n",
    "\n",
    "# Create the main window\n",
    "root = tk.Tk()\n",
    "root.title(\"Text File Reader\")\n",
    "\n",
    "# Create a Text widget to display the content\n",
    "text_widget = tk.Text(root, wrap=\"word\", width=40, height=10)\n",
    "text_widget.pack(pady=10)\n",
    "\n",
    "# Create a button to open the file\n",
    "open_button = tk.Button(root, text=\"Open File\", command=open_file)\n",
    "open_button.pack(pady=10)\n",
    "\n",
    "# Run the Tkinter event loop\n",
    "root.mainloop()"
   ]
  },
  {
   "cell_type": "code",
   "execution_count": null,
   "id": "921c20d4-49fe-48de-a424-02d36c32482d",
   "metadata": {},
   "outputs": [],
   "source": [
    "import os\n",
    "os.system(\"notepad.exe logs_messages.txt\")"
   ]
  },
  {
   "cell_type": "code",
   "execution_count": null,
   "id": "3fbe32ba-b197-4f5e-bb34-5e9be9aaab0a",
   "metadata": {
    "scrolled": true
   },
   "outputs": [],
   "source": [
    "file_path= \"C:\\\\Users\\\\Joel\\\\Documents\\\\Python\\\\messaging_hosts\\\\logs_messages.txt\"\n",
    "\n",
    "content = open(file_path, 'r')\n",
    "#print(dir(content))\n",
    "print(content.read())"
   ]
  },
  {
   "cell_type": "markdown",
   "id": "c0dea8bb-5e78-4aaa-90eb-4ea7136c7bdb",
   "metadata": {},
   "source": [
    "## Updating the text viewer"
   ]
  },
  {
   "cell_type": "markdown",
   "id": "2717cc30-63ca-4ed0-a07b-2a1c936712a3",
   "metadata": {},
   "source": [
    "### Watchdog"
   ]
  },
  {
   "cell_type": "code",
   "execution_count": null,
   "id": "af4c2167-3694-4f8d-8385-87644b4a70d0",
   "metadata": {},
   "outputs": [],
   "source": [
    "from watchdog.observers import Observer\n",
    "from watchdog.events import FileSystemEventHandler\n",
    "import os\n",
    "\n",
    "global current_size\n",
    "\n",
    "file_name=\"X:\\\\test_messaging\\\\logs_messages.txt\"\n",
    "file_stats = os.stat(file_name)\n",
    "current_size=file_stats.st_size #/ (1024 * 1024)\n",
    "print(f'File Size in Bytes is {current_size}')\n",
    "\n",
    "\n",
    "class MyEventHandler(FileSystemEventHandler):\n",
    "    def on_modified(self, event):\n",
    "        global current_size\n",
    "        file_name_modified=\"X:/test_messaging/logs_messages.txt\"\n",
    "        file_stats_wd = os.stat(file_name_modified)\n",
    "        new_size= file_stats_wd.st_size\n",
    "        print(f'File Size in Bytes is {new_size}')\n",
    "        if file_name_modified:\n",
    "            if new_size > current_size:\n",
    "                print(\"Estas dentro del IF\")\n",
    "                #shutil.copy(\"C:/Users/Joel/Documents/Test/monitored_directory/test_wd.txt\", \"C:/Users/Joel/Documents/Test/copied_files/\")\n",
    "                current_size=new_size\n",
    "\n",
    "observer = Observer()\n",
    "observer.schedule(MyEventHandler(), \"X:/test_messaging/\", recursive=False) #Directorio monitoreado\n",
    "observer.start()\n",
    "\n",
    "try:\n",
    "    while True:\n",
    "            # Set the thread sleep time\n",
    "            time.sleep(1)\n",
    "except KeyboardInterrupt:\n",
    "    observer.stop()\n",
    "    observer.join()\n"
   ]
  },
  {
   "cell_type": "code",
   "execution_count": null,
   "id": "dabfd77c-540e-40fc-bacb-08b71122570a",
   "metadata": {},
   "outputs": [],
   "source": [
    "import sys\n",
    "import time\n",
    "import logging\n",
    "from watchdog.observers import Observer\n",
    "from watchdog.events import LoggingEventHandler\n",
    " \n",
    "if __name__ == \"__main__\":\n",
    "    # Set the format for logging info\n",
    "    logging.basicConfig(level=logging.INFO,\n",
    "                        format='%(asctime)s - %(message)s',\n",
    "                        datefmt='%Y-%m-%d %H:%M:%S')\n",
    " \n",
    "    # Set format for displaying path\n",
    "path = sys.argv[1] if len(sys.argv) > 1 else '.'\n",
    " \n",
    "    # Initialize logging event handler\n",
    "event_handler = LoggingEventHandler()\n",
    " \n",
    "    # Initialize Observer\n",
    "observer = Observer()\n",
    "observer.schedule(event_handler, \"X:/test_messaging/\", recursive=True)\n",
    " \n",
    "    # Start the observer\n",
    "observer.start()\n",
    "try:\n",
    "    while True:\n",
    "            # Set the thread sleep time\n",
    "            time.sleep(1)\n",
    "except KeyboardInterrupt:\n",
    "    observer.stop()\n",
    "    observer.join()"
   ]
  },
  {
   "cell_type": "markdown",
   "id": "e6f9360b-8d33-422b-a742-99aee415460d",
   "metadata": {},
   "source": [
    "## While"
   ]
  },
  {
   "cell_type": "code",
   "execution_count": 1,
   "id": "31d64bb6-a8f1-460e-b674-1b4a44ae913c",
   "metadata": {},
   "outputs": [
    {
     "name": "stdout",
     "output_type": "stream",
     "text": [
      "El tamaño del archivo es: 18\n",
      "Estas dentro del IF\n",
      "Estas dentro del IF\n"
     ]
    },
    {
     "ename": "KeyboardInterrupt",
     "evalue": "",
     "output_type": "error",
     "traceback": [
      "\u001b[1;31m---------------------------------------------------------------------------\u001b[0m",
      "\u001b[1;31mKeyboardInterrupt\u001b[0m                         Traceback (most recent call last)",
      "Cell \u001b[1;32mIn[1], line 35\u001b[0m\n\u001b[0;32m     31\u001b[0m             \u001b[38;5;28mprint\u001b[39m(\u001b[38;5;124m\"\u001b[39m\u001b[38;5;124mEstas dentro del IF\u001b[39m\u001b[38;5;124m\"\u001b[39m)\n\u001b[0;32m     32\u001b[0m             current_size\u001b[38;5;241m=\u001b[39mnew_size\n\u001b[1;32m---> 35\u001b[0m tracking()\n",
      "Cell \u001b[1;32mIn[1], line 24\u001b[0m, in \u001b[0;36mtracking\u001b[1;34m()\u001b[0m\n\u001b[0;32m     21\u001b[0m state \u001b[38;5;241m=\u001b[39m \u001b[38;5;28;01mTrue\u001b[39;00m\n\u001b[0;32m     23\u001b[0m \u001b[38;5;28;01mwhile\u001b[39;00m state \u001b[38;5;241m==\u001b[39m \u001b[38;5;28;01mTrue\u001b[39;00m:\n\u001b[1;32m---> 24\u001b[0m     time\u001b[38;5;241m.\u001b[39msleep(\u001b[38;5;241m1\u001b[39m)\n\u001b[0;32m     25\u001b[0m     file_name_modified\u001b[38;5;241m=\u001b[39m\u001b[38;5;124m\"\u001b[39m\u001b[38;5;124mC:/Users/Joel/Documents/Python/messaging_hosts/logs_messages.txt\u001b[39m\u001b[38;5;124m\"\u001b[39m\n\u001b[0;32m     26\u001b[0m     file_stats \u001b[38;5;241m=\u001b[39m os\u001b[38;5;241m.\u001b[39mstat(file_name_modified)\n",
      "\u001b[1;31mKeyboardInterrupt\u001b[0m: "
     ]
    }
   ],
   "source": [
    "import datetime\n",
    "import shutil\n",
    "import os\n",
    "import time\n",
    "\n",
    "from tkinter import *\n",
    "from tkinter import messagebox\n",
    "from pathlib import Path\n",
    "\n",
    "global current_size\n",
    "\n",
    "file_name=\"C:/Users/Joel/Documents/Python/messaging_hosts/logs_messages.txt\"\n",
    "file_stats = os.stat(file_name)\n",
    "current_size=file_stats.st_size #/ (1024 * 1024)\n",
    "print(f'El tamaño del archivo es: {current_size}')\n",
    "        \n",
    "\n",
    "def tracking():\n",
    "    global current_size\n",
    "    \n",
    "    state = True\n",
    "    \n",
    "    while state == True:\n",
    "        time.sleep(1)\n",
    "        file_name_modified=\"C:/Users/Joel/Documents/Python/messaging_hosts/logs_messages.txt\"\n",
    "        file_stats = os.stat(file_name_modified)\n",
    "        new_size= file_stats.st_size\n",
    "        #print(f'El tamaño es: {new_size}')\n",
    "    #if filename:    \n",
    "        if new_size > current_size:\n",
    "            print(\"Estas dentro del IF\")\n",
    "            current_size=new_size\n",
    "            \n",
    "            \n",
    "tracking()        \n",
    "\n",
    "\n",
    "\n",
    "    "
   ]
  },
  {
   "cell_type": "code",
   "execution_count": null,
   "id": "aac625da-24f3-4f00-ba78-9aacdc884103",
   "metadata": {},
   "outputs": [],
   "source": [
    "main_window=Tk()\n",
    "main_window.title(\"MONITOREANDO...\")\n",
    "main_window.geometry(\"275x45\")\n",
    "text=Label(main_window, text=\"Monitoreando archivo PropMap\")\n",
    "text.pack()\n",
    "text2=Label(main_window, text=\"NO CERRAR ESTA VENTANA\", fg=\"#D40104\")\n",
    "text2.pack()\n",
    "main_window.mainloop()\n",
    "\n",
    "title=\"¡¡¡ERROR!!!\"\n",
    "info=\"EL SCRIPT HA DEJADO DE MONITOREAR EL DIRECTORIO \\nNotificar a Sistemas\"\n",
    "\n",
    "\n",
    "while observer.is_alive() and main_window in locals():\n",
    "    observer.join(1)\n",
    "observer.stop()\n",
    "observer.join()\n",
    "messagebox.showerror(title, info)\n",
    "\n",
    "\n",
    "state=True\n",
    "\n",
    "#new_size= int(input(\"Dame un valor\"))\n",
    "#print(type(new_size))\n",
    "#current_size=10\n",
    "    \n",
    "\n",
    "        #state=False"
   ]
  },
  {
   "cell_type": "code",
   "execution_count": null,
   "id": "af2a92a8-d479-4d12-8d09-c916fa7a47db",
   "metadata": {},
   "outputs": [],
   "source": []
  }
 ],
 "metadata": {
  "kernelspec": {
   "display_name": "Python 3 (ipykernel)",
   "language": "python",
   "name": "python3"
  },
  "language_info": {
   "codemirror_mode": {
    "name": "ipython",
    "version": 3
   },
   "file_extension": ".py",
   "mimetype": "text/x-python",
   "name": "python",
   "nbconvert_exporter": "python",
   "pygments_lexer": "ipython3",
   "version": "3.12.7"
  }
 },
 "nbformat": 4,
 "nbformat_minor": 5
}
